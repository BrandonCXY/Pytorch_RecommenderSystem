{
 "cells": [
  {
   "cell_type": "code",
   "execution_count": null,
   "metadata": {},
   "outputs": [],
   "source": [
    "# kaggle competition: https://www.kaggle.com/c/house-prices-advanced-regression-techniques/data"
   ]
  },
  {
   "cell_type": "code",
   "execution_count": 25,
   "metadata": {},
   "outputs": [],
   "source": [
    "import numpy as np\n",
    "import pandas as pd\n",
    "import torch\n",
    "import torch.nn as nn\n",
    "from sklearn.model_selection import train_test_split\n",
    "from sklearn.metrics import mean_squared_error\n"
   ]
  },
  {
   "cell_type": "code",
   "execution_count": 4,
   "metadata": {},
   "outputs": [],
   "source": [
    "def load_array(data_arrays, batch_size, is_train=True):\n",
    "    \"\"\"Construct a PyTorch data loader\"\"\"\n",
    "    dataset = torch.utils.data.TensorDataset(*data_arrays)\n",
    "    return torch.utils.data.DataLoader(dataset, batch_size, shuffle=is_train)"
   ]
  },
  {
   "cell_type": "code",
   "execution_count": 8,
   "metadata": {},
   "outputs": [],
   "source": [
    "class NeuralNet(nn.Module): # Fully connected neural network with one hidden layer\n",
    "    def __init__(self, input_size, hidden_size, num_classes):\n",
    "        super(NeuralNet, self).__init__()\n",
    "        self.fc1 = nn.Linear(input_size, hidden_size) \n",
    "        self.relu = nn.ReLU()\n",
    "        self.fc2 = nn.Linear(hidden_size, num_classes)  \n",
    "    \n",
    "    def forward(self, x):\n",
    "        out = self.fc1(x)\n",
    "        out = self.relu(out)\n",
    "        out = self.fc2(out)\n",
    "        return out"
   ]
  },
  {
   "cell_type": "code",
   "execution_count": 124,
   "metadata": {},
   "outputs": [],
   "source": [
    "def train_and_pred(train, test, k, learning_rate, batch_size, model, num_epochs):\n",
    "    \n",
    "    # Device configuration\n",
    "    device = torch.device('cuda' if torch.cuda.is_available() else 'cpu')\n",
    "    \n",
    "    # pre-process the datasets\n",
    "    # features can not include SalePrice\n",
    "    \n",
    "    train_all_features = train.iloc[:, 1:-1]\n",
    "    test_all_features = test.iloc[:, 1:]\n",
    "    \n",
    "    \n",
    "    numeric_features = train_all_features.describe().columns\n",
    "\n",
    "    train_all_features[numeric_features] = train_all_features[numeric_features].apply(\n",
    "        lambda x: (x - x.mean()) / (x.std()))\n",
    "\n",
    "    test_all_features[numeric_features] = test_all_features[numeric_features].apply(\n",
    "        lambda x: (x - x.mean()) / (x.std()))\n",
    "    \n",
    "    \n",
    "    # After standardizing the data all means vanish, hence we can set missing\n",
    "    # values to 0\n",
    "\n",
    "    # Dummy_na=True refers to a missing value being a legal eigenvalue, and\n",
    "    # creates an indicative feature for it\n",
    "\n",
    "    all_features = pd.concat((train_all_features, test_all_features))\n",
    "\n",
    "    all_features[numeric_features] = all_features[numeric_features].fillna(0)\n",
    "\n",
    "    all_features = pd.get_dummies(all_features, dummy_na=True)\n",
    "    \n",
    "    real_test_features_tensor = torch.tensor(all_features[train_all_features.shape[0]:].values,dtype=torch.float32)\n",
    "    \n",
    "    # k-fold validations\n",
    "    train_logrmse = []\n",
    "    test_logrmse = []\n",
    "    for f in range(0,k):\n",
    "        # split the original train dataset into k folds\n",
    "        X_train, X_test, y_train, y_test = train_test_split(all_features[:train_all_features.shape[0]], \n",
    "                                                            train.SalePrice, test_size = 1/k, \n",
    "                                                            random_state = f)\n",
    "        \n",
    "        # use torch.any(torch.isnan(x)) to check wheter have nan value or not \n",
    "        train_features_tensor = torch.tensor(X_train.values,dtype=torch.float32)\n",
    "        train_labels = torch.tensor(y_train.values, dtype=torch.float32).reshape(-1, 1)\n",
    "        test_features_tensor = torch.tensor(X_test.values,dtype=torch.float32)\n",
    "        #test_labels = torch.tensor(y_test.values, dtype=torch.float32).reshape(-1, 1)\n",
    "        \n",
    "        # training the one hidden layer nueral network model------------------------------------------------\n",
    "        # transform dataframes into iterator which is used as inputs in neural network\n",
    "        train_iter = load_array((train_features_tensor, train_labels), batch_size)\n",
    "        \n",
    "        # criterion and optimizer\n",
    "        criterion = nn.MSELoss()\n",
    "        optimizer = torch.optim.Adam(model.parameters(), lr = learning_rate)  \n",
    "        \n",
    "        # train the model\n",
    "        total_step = len(train_iter)\n",
    "        for epoch in range(num_epochs):\n",
    "            for i, (data,label) in enumerate(train_iter):  \n",
    "                # Move tensors to the configured device\n",
    "                data = data.to(device)\n",
    "                label = label.to(device)\n",
    "\n",
    "                # Forward pass\n",
    "                outputs = model(data)\n",
    "                #print(outputs)\n",
    "                loss = criterion(outputs, label)\n",
    "                log_loss = criterion(torch.log(outputs),torch.log(label))\n",
    "\n",
    "                # Backward and optimize\n",
    "                optimizer.zero_grad()\n",
    "                loss.backward()\n",
    "                optimizer.step()\n",
    "\n",
    "                logrmse = torch.sqrt(torch.mean(log_loss))\n",
    "\n",
    "                '''if ((i+1) % 10 == 0) | ((i+1) % 23 == 0):\n",
    "                    print ('Epoch [{}/{}], Step [{}/{}], train_Log_rmse: {:.4f}' \n",
    "                           .format(epoch+1, num_epochs, i+1, total_step, logrmse))'''\n",
    "                if (epoch == num_epochs -1) & ((i+1) % 17 == 0):\n",
    "                    \n",
    "                    train_logrmse.append(logrmse.item())\n",
    "                    \n",
    "        # get the prediciton of X_test (or y_test_hat)\n",
    "        y_test_hat = model(test_features_tensor.cuda()).detach()\n",
    "        y_test_hat = y_test_hat.cpu().numpy()\n",
    "        \n",
    "        #temp = torch.nn.MSELoss(torch.log(test_labels) - torch.log(y_test_hat.cpu()))\n",
    "        #test_logrmse.append(torch.sqrt(torch.mean(temp)))\n",
    "        mse = mean_squared_error(np.log(y_test), np.log(y_test_hat))\n",
    "        test_logrmse.append(np.sqrt(mse))\n",
    "    \n",
    "        print('fold %d, train rmse: %f, test rmse: %f' % (f, train_logrmse[-1], test_logrmse[-1]))\n",
    "    print('total train rmse: %f, total test rmse: %f' % (np.mean(train_logrmse), np.mean(test_logrmse)))\n",
    "\n",
    "    '''preds = model(real_test_features_tensor.cuda()).detach()\n",
    "    preds = preds.cpu().numpy()\n",
    "    test['SalePrice'] = pd.Series(preds.reshape(1, -1)[0])\n",
    "    submission = pd.concat([test['Id'], test['SalePrice']], axis=1)\n",
    "    submission.to_csv('/home/dm/Downloads/submission.csv', index=False)'''\n",
    "        "
   ]
  },
  {
   "cell_type": "code",
   "execution_count": 125,
   "metadata": {},
   "outputs": [],
   "source": [
    "def main():\n",
    "    # load the datasets\n",
    "    train_dataset = pd.read_csv('/home/dm/Downloads/house_price/train.csv')\n",
    "    test_dataset = pd.read_csv('/home/dm/Downloads/house_price/test.csv')\n",
    "\n",
    "    # Device configuration\n",
    "    device = torch.device('cuda' if torch.cuda.is_available() else 'cpu')\n",
    "\n",
    "    # train_features_tensor.shape = [1460,331]\n",
    "    input_size = 331\n",
    "    # tune this hidden_size\n",
    "    hidden_size = 100\n",
    "    num_classes = 1 \n",
    "    learning_rate = 5\n",
    "    batch_size = 64\n",
    "    k = 4\n",
    "    num_epochs = 1000\n",
    "\n",
    "    #model = NeuralNet1(input_size, num_classes).to(device)\n",
    "    model = NeuralNet(input_size, hidden_size, num_classes).to(device)\n",
    "    \n",
    "    train_and_pred(train_dataset, test_dataset, k, learning_rate, batch_size, model, num_epochs)\n",
    "\n"
   ]
  },
  {
   "cell_type": "code",
   "execution_count": 126,
   "metadata": {},
   "outputs": [
    {
     "name": "stdout",
     "output_type": "stream",
     "text": [
      "fold 0, train rmse: 0.087998, test rmse: 0.223163\n",
      "fold 1, train rmse: 0.084573, test rmse: 0.154721\n",
      "fold 2, train rmse: 0.098414, test rmse: 0.156710\n",
      "fold 3, train rmse: 0.085395, test rmse: 0.165029\n",
      "total train rmse: 0.089095, total test rmse: 0.174906\n"
     ]
    }
   ],
   "source": [
    "main()"
   ]
  },
  {
   "cell_type": "markdown",
   "metadata": {},
   "source": []
  }
 ],
 "metadata": {
  "kernelspec": {
   "display_name": "“torch0”",
   "language": "python",
   "name": "torch0"
  },
  "language_info": {
   "codemirror_mode": {
    "name": "ipython",
    "version": 3
   },
   "file_extension": ".py",
   "mimetype": "text/x-python",
   "name": "python",
   "nbconvert_exporter": "python",
   "pygments_lexer": "ipython3",
   "version": "3.7.7"
  }
 },
 "nbformat": 4,
 "nbformat_minor": 4
}
